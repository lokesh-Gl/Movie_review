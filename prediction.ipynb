{
 "cells": [
  {
   "cell_type": "code",
   "execution_count": 1,
   "metadata": {},
   "outputs": [],
   "source": [
    "import numpy as np\n",
    "import tensorflow as tf\n",
    "from tensorflow.keras.datasets import imdb\n",
    "from tensorflow.keras.preprocessing import sequence\n",
    "from tensorflow.keras.models import load_model"
   ]
  },
  {
   "cell_type": "code",
   "execution_count": 2,
   "metadata": {},
   "outputs": [],
   "source": [
    "word_index = imdb.get_word_index()\n",
    "reverse_word_index = {value: key for key, value in word_index.items()}"
   ]
  },
  {
   "cell_type": "code",
   "execution_count": 4,
   "metadata": {},
   "outputs": [
    {
     "name": "stderr",
     "output_type": "stream",
     "text": [
      "WARNING:absl:Compiled the loaded model, but the compiled metrics have yet to be built. `model.compile_metrics` will be empty until you train or evaluate the model.\n"
     ]
    },
    {
     "data": {
      "text/html": [
       "<pre style=\"white-space:pre;overflow-x:auto;line-height:normal;font-family:Menlo,'DejaVu Sans Mono',consolas,'Courier New',monospace\"><span style=\"font-weight: bold\">Model: \"sequential_8\"</span>\n",
       "</pre>\n"
      ],
      "text/plain": [
       "\u001b[1mModel: \"sequential_8\"\u001b[0m\n"
      ]
     },
     "metadata": {},
     "output_type": "display_data"
    },
    {
     "data": {
      "text/html": [
       "<pre style=\"white-space:pre;overflow-x:auto;line-height:normal;font-family:Menlo,'DejaVu Sans Mono',consolas,'Courier New',monospace\">┏━━━━━━━━━━━━━━━━━━━━━━━━━━━━━━━━━┳━━━━━━━━━━━━━━━━━━━━━━━━┳━━━━━━━━━━━━━━━┓\n",
       "┃<span style=\"font-weight: bold\"> Layer (type)                    </span>┃<span style=\"font-weight: bold\"> Output Shape           </span>┃<span style=\"font-weight: bold\">       Param # </span>┃\n",
       "┡━━━━━━━━━━━━━━━━━━━━━━━━━━━━━━━━━╇━━━━━━━━━━━━━━━━━━━━━━━━╇━━━━━━━━━━━━━━━┩\n",
       "│ embedding_8 (<span style=\"color: #0087ff; text-decoration-color: #0087ff\">Embedding</span>)         │ (<span style=\"color: #00d7ff; text-decoration-color: #00d7ff\">None</span>, <span style=\"color: #00af00; text-decoration-color: #00af00\">500</span>, <span style=\"color: #00af00; text-decoration-color: #00af00\">128</span>)       │     <span style=\"color: #00af00; text-decoration-color: #00af00\">1,280,000</span> │\n",
       "├─────────────────────────────────┼────────────────────────┼───────────────┤\n",
       "│ simple_rnn_8 (<span style=\"color: #0087ff; text-decoration-color: #0087ff\">SimpleRNN</span>)        │ (<span style=\"color: #00d7ff; text-decoration-color: #00d7ff\">None</span>, <span style=\"color: #00af00; text-decoration-color: #00af00\">128</span>)            │        <span style=\"color: #00af00; text-decoration-color: #00af00\">32,896</span> │\n",
       "├─────────────────────────────────┼────────────────────────┼───────────────┤\n",
       "│ dense_8 (<span style=\"color: #0087ff; text-decoration-color: #0087ff\">Dense</span>)                 │ (<span style=\"color: #00d7ff; text-decoration-color: #00d7ff\">None</span>, <span style=\"color: #00af00; text-decoration-color: #00af00\">1</span>)              │           <span style=\"color: #00af00; text-decoration-color: #00af00\">129</span> │\n",
       "└─────────────────────────────────┴────────────────────────┴───────────────┘\n",
       "</pre>\n"
      ],
      "text/plain": [
       "┏━━━━━━━━━━━━━━━━━━━━━━━━━━━━━━━━━┳━━━━━━━━━━━━━━━━━━━━━━━━┳━━━━━━━━━━━━━━━┓\n",
       "┃\u001b[1m \u001b[0m\u001b[1mLayer (type)                   \u001b[0m\u001b[1m \u001b[0m┃\u001b[1m \u001b[0m\u001b[1mOutput Shape          \u001b[0m\u001b[1m \u001b[0m┃\u001b[1m \u001b[0m\u001b[1m      Param #\u001b[0m\u001b[1m \u001b[0m┃\n",
       "┡━━━━━━━━━━━━━━━━━━━━━━━━━━━━━━━━━╇━━━━━━━━━━━━━━━━━━━━━━━━╇━━━━━━━━━━━━━━━┩\n",
       "│ embedding_8 (\u001b[38;5;33mEmbedding\u001b[0m)         │ (\u001b[38;5;45mNone\u001b[0m, \u001b[38;5;34m500\u001b[0m, \u001b[38;5;34m128\u001b[0m)       │     \u001b[38;5;34m1,280,000\u001b[0m │\n",
       "├─────────────────────────────────┼────────────────────────┼───────────────┤\n",
       "│ simple_rnn_8 (\u001b[38;5;33mSimpleRNN\u001b[0m)        │ (\u001b[38;5;45mNone\u001b[0m, \u001b[38;5;34m128\u001b[0m)            │        \u001b[38;5;34m32,896\u001b[0m │\n",
       "├─────────────────────────────────┼────────────────────────┼───────────────┤\n",
       "│ dense_8 (\u001b[38;5;33mDense\u001b[0m)                 │ (\u001b[38;5;45mNone\u001b[0m, \u001b[38;5;34m1\u001b[0m)              │           \u001b[38;5;34m129\u001b[0m │\n",
       "└─────────────────────────────────┴────────────────────────┴───────────────┘\n"
      ]
     },
     "metadata": {},
     "output_type": "display_data"
    },
    {
     "data": {
      "text/html": [
       "<pre style=\"white-space:pre;overflow-x:auto;line-height:normal;font-family:Menlo,'DejaVu Sans Mono',consolas,'Courier New',monospace\"><span style=\"font-weight: bold\"> Total params: </span><span style=\"color: #00af00; text-decoration-color: #00af00\">1,313,027</span> (5.01 MB)\n",
       "</pre>\n"
      ],
      "text/plain": [
       "\u001b[1m Total params: \u001b[0m\u001b[38;5;34m1,313,027\u001b[0m (5.01 MB)\n"
      ]
     },
     "metadata": {},
     "output_type": "display_data"
    },
    {
     "data": {
      "text/html": [
       "<pre style=\"white-space:pre;overflow-x:auto;line-height:normal;font-family:Menlo,'DejaVu Sans Mono',consolas,'Courier New',monospace\"><span style=\"font-weight: bold\"> Trainable params: </span><span style=\"color: #00af00; text-decoration-color: #00af00\">1,313,025</span> (5.01 MB)\n",
       "</pre>\n"
      ],
      "text/plain": [
       "\u001b[1m Trainable params: \u001b[0m\u001b[38;5;34m1,313,025\u001b[0m (5.01 MB)\n"
      ]
     },
     "metadata": {},
     "output_type": "display_data"
    },
    {
     "data": {
      "text/html": [
       "<pre style=\"white-space:pre;overflow-x:auto;line-height:normal;font-family:Menlo,'DejaVu Sans Mono',consolas,'Courier New',monospace\"><span style=\"font-weight: bold\"> Non-trainable params: </span><span style=\"color: #00af00; text-decoration-color: #00af00\">0</span> (0.00 B)\n",
       "</pre>\n"
      ],
      "text/plain": [
       "\u001b[1m Non-trainable params: \u001b[0m\u001b[38;5;34m0\u001b[0m (0.00 B)\n"
      ]
     },
     "metadata": {},
     "output_type": "display_data"
    },
    {
     "data": {
      "text/html": [
       "<pre style=\"white-space:pre;overflow-x:auto;line-height:normal;font-family:Menlo,'DejaVu Sans Mono',consolas,'Courier New',monospace\"><span style=\"font-weight: bold\"> Optimizer params: </span><span style=\"color: #00af00; text-decoration-color: #00af00\">2</span> (12.00 B)\n",
       "</pre>\n"
      ],
      "text/plain": [
       "\u001b[1m Optimizer params: \u001b[0m\u001b[38;5;34m2\u001b[0m (12.00 B)\n"
      ]
     },
     "metadata": {},
     "output_type": "display_data"
    }
   ],
   "source": [
    "model = load_model('simplernn_imdb.h5')\n",
    "model.summary()"
   ]
  },
  {
   "cell_type": "code",
   "execution_count": 5,
   "metadata": {},
   "outputs": [
    {
     "data": {
      "text/plain": [
       "[array([[-0.00390953,  0.01873042,  0.00315035, ...,  0.05117576,\n",
       "          0.01217119, -0.00830443],\n",
       "        [-0.03212739,  0.02306268, -0.0183227 , ...,  0.06853408,\n",
       "          0.01387099, -0.05080881],\n",
       "        [-0.0521039 ,  0.01418898, -0.02657965, ...,  0.05904685,\n",
       "         -0.01759734, -0.07602865],\n",
       "        ...,\n",
       "        [-0.09728716,  0.0808724 , -0.00281933, ...,  0.0002325 ,\n",
       "          0.03752206, -0.0260708 ],\n",
       "        [-0.06695379, -0.06791276,  0.00150847, ...,  0.02228427,\n",
       "          0.06070358,  0.01446576],\n",
       "        [-0.05236313,  0.02212423, -0.066725  , ...,  0.06006977,\n",
       "         -0.07482401, -0.08678336]], dtype=float32),\n",
       " array([[ 0.06533799,  0.04097585,  0.08314081, ..., -0.09481706,\n",
       "         -0.10932227,  0.01220461],\n",
       "        [-0.03354077, -0.1320012 ,  0.13587536, ..., -0.03348527,\n",
       "         -0.00018141,  0.09124205],\n",
       "        [ 0.0856687 , -0.0157972 , -0.05734291, ..., -0.11139847,\n",
       "         -0.07323769, -0.10228119],\n",
       "        ...,\n",
       "        [-0.07684404,  0.09736869,  0.1281316 , ...,  0.10709952,\n",
       "         -0.00613028,  0.07150406],\n",
       "        [-0.04371643, -0.00200703,  0.08100288, ..., -0.08076227,\n",
       "         -0.00188931,  0.12361029],\n",
       "        [ 0.11106328, -0.11773744,  0.01639817, ...,  0.10924382,\n",
       "          0.08210779, -0.11547584]], dtype=float32),\n",
       " array([[-1.4104050e-01,  6.0886733e-02, -8.9557990e-03, ...,\n",
       "         -1.7187750e-01, -5.2932017e-02, -8.1581540e-02],\n",
       "        [ 1.6065753e-01, -5.5915281e-02,  3.9046317e-02, ...,\n",
       "          4.9439862e-02,  8.0479793e-02, -4.4695426e-02],\n",
       "        [ 4.0703654e-02,  9.4009146e-02, -1.4883076e-01, ...,\n",
       "          1.2435208e-04, -4.0609889e-02, -2.8401904e-02],\n",
       "        ...,\n",
       "        [-3.8513761e-02, -1.1583162e-01,  5.6761779e-02, ...,\n",
       "         -1.6580732e-01,  2.6932023e-02,  5.5711348e-02],\n",
       "        [ 1.1296563e-01, -2.4260884e-02,  1.6758429e-02, ...,\n",
       "         -9.9046446e-02,  4.2379615e-03,  1.4575452e-02],\n",
       "        [ 2.0922880e-01,  1.3733001e-01, -1.3678394e-02, ...,\n",
       "         -3.0178839e-02, -2.3160337e-02,  2.2625091e-02]], dtype=float32),\n",
       " array([ 1.47111891e-02,  1.24757867e-02, -6.05678139e-03, -1.15049966e-02,\n",
       "         7.86068570e-03,  2.07462208e-03,  1.78485108e-03,  1.56371742e-02,\n",
       "        -9.54190828e-03, -1.43236415e-02,  3.52541804e-02, -6.87063579e-03,\n",
       "        -2.62312614e-03,  1.77689344e-02, -2.92948894e-02,  2.74451985e-03,\n",
       "         6.59442693e-03,  1.69236567e-02, -4.40613599e-03,  6.93414221e-03,\n",
       "         2.50713322e-02,  5.99649677e-04, -4.08774754e-03, -1.19616585e-02,\n",
       "        -5.59506519e-03,  9.00657941e-03,  8.14869441e-03, -4.85741859e-03,\n",
       "        -6.98750978e-03, -1.69197237e-03,  1.46692833e-02, -1.82413347e-02,\n",
       "         2.44400576e-02, -1.80385262e-03, -6.46926113e-04, -3.87468119e-03,\n",
       "         1.42233726e-03,  6.19884115e-03,  3.05776903e-03, -1.76352654e-02,\n",
       "        -4.27362183e-03,  1.64168905e-02,  1.11232055e-02,  1.03279306e-02,\n",
       "         6.26739301e-03, -9.42533091e-03,  2.78120418e-03,  9.01287794e-03,\n",
       "        -1.14338389e-02, -7.59948790e-03, -8.72761849e-03,  7.01866718e-03,\n",
       "         9.90009122e-03, -1.77241291e-03, -7.44201825e-04,  4.32593329e-03,\n",
       "        -2.35577486e-02,  2.30230261e-02,  2.75653158e-03,  8.99516139e-03,\n",
       "        -1.84345583e-03, -1.19171869e-02,  2.12343782e-02,  1.07272081e-02,\n",
       "         9.86919738e-03, -8.13245680e-03,  3.44666711e-04, -1.37850251e-02,\n",
       "         1.93555863e-03, -8.45383573e-03, -2.92597641e-03,  8.54779559e-04,\n",
       "         1.38004497e-02, -2.03947467e-03, -1.08832109e-03,  2.44323220e-02,\n",
       "         1.13218632e-02,  1.06627191e-03, -3.49501427e-03, -4.26608184e-03,\n",
       "        -2.71572918e-03,  1.59606114e-02,  1.73477153e-03,  1.16869211e-02,\n",
       "         1.48952641e-02,  4.89756698e-03, -6.09380368e-04,  7.27523351e-03,\n",
       "         1.12810386e-02, -1.25732971e-02,  5.21199126e-03, -6.83244411e-03,\n",
       "         7.69053446e-03, -8.91855816e-05,  1.32973045e-02,  6.02671178e-03,\n",
       "        -9.56187025e-03,  2.72735301e-03,  1.97275681e-03, -5.60680451e-03,\n",
       "        -6.98047690e-03, -5.37651405e-03,  3.84977343e-03, -1.77902989e-02,\n",
       "        -1.68937221e-02,  7.99715705e-03,  7.02696014e-03, -1.84992328e-02,\n",
       "        -2.74313753e-03, -1.55816330e-02,  1.23263113e-02, -7.67001882e-03,\n",
       "         1.65114133e-03, -6.34849817e-03,  2.96286726e-03,  6.76749228e-03,\n",
       "         2.27151540e-05,  2.47382512e-03, -6.92923367e-03,  6.47871895e-03,\n",
       "        -1.46698235e-02, -1.05438121e-02,  7.70233164e-04,  1.29290381e-02,\n",
       "        -7.62729393e-03, -2.14671101e-02,  2.86430344e-02, -1.68883409e-02],\n",
       "       dtype=float32),\n",
       " array([[-6.69933110e-02],\n",
       "        [ 1.50046702e-02],\n",
       "        [-1.19822666e-01],\n",
       "        [-1.70794368e-01],\n",
       "        [ 1.79502070e-02],\n",
       "        [-2.13445619e-01],\n",
       "        [-9.33650956e-02],\n",
       "        [ 2.42719293e-01],\n",
       "        [ 2.32244268e-01],\n",
       "        [-3.58857244e-01],\n",
       "        [-2.87981808e-01],\n",
       "        [-1.65454954e-01],\n",
       "        [-2.51402333e-02],\n",
       "        [ 1.64910659e-01],\n",
       "        [ 6.73431456e-02],\n",
       "        [ 1.57980964e-01],\n",
       "        [-1.61272645e-01],\n",
       "        [ 1.56762871e-05],\n",
       "        [-1.40610412e-01],\n",
       "        [-2.88080603e-01],\n",
       "        [-3.16523425e-02],\n",
       "        [-1.76822573e-01],\n",
       "        [-6.15243018e-02],\n",
       "        [-3.10456567e-02],\n",
       "        [ 6.75746426e-02],\n",
       "        [ 2.97291487e-01],\n",
       "        [-9.29945931e-02],\n",
       "        [-6.52510375e-02],\n",
       "        [-5.87374195e-02],\n",
       "        [-1.08200289e-01],\n",
       "        [ 5.50295532e-01],\n",
       "        [-1.19620217e-02],\n",
       "        [-1.70377746e-01],\n",
       "        [ 6.52738035e-01],\n",
       "        [-3.09559293e-02],\n",
       "        [ 1.79871336e-01],\n",
       "        [-1.66945845e-01],\n",
       "        [-1.15353674e-01],\n",
       "        [ 1.81346029e-01],\n",
       "        [-1.00282952e-01],\n",
       "        [ 8.56799167e-03],\n",
       "        [ 2.87726987e-02],\n",
       "        [ 1.02715269e-01],\n",
       "        [-4.04099017e-01],\n",
       "        [ 1.33385673e-01],\n",
       "        [-3.27181309e-01],\n",
       "        [-6.91367537e-02],\n",
       "        [ 1.97376952e-01],\n",
       "        [-4.80069406e-03],\n",
       "        [ 5.23979701e-02],\n",
       "        [-1.01662062e-01],\n",
       "        [ 2.76810303e-02],\n",
       "        [-7.29218364e-01],\n",
       "        [ 6.55712839e-03],\n",
       "        [ 1.42310545e-01],\n",
       "        [-1.64022863e-01],\n",
       "        [-4.69449967e-01],\n",
       "        [-1.05448341e+00],\n",
       "        [-7.28746653e-02],\n",
       "        [ 3.14565182e-01],\n",
       "        [ 3.37974012e-01],\n",
       "        [-2.01044917e-01],\n",
       "        [-5.48431575e-01],\n",
       "        [ 2.37893641e-01],\n",
       "        [-5.01560383e-02],\n",
       "        [-1.23559967e-01],\n",
       "        [ 1.35591831e-02],\n",
       "        [-3.72907370e-01],\n",
       "        [ 6.45178556e-02],\n",
       "        [-1.54602155e-01],\n",
       "        [-1.05497137e-01],\n",
       "        [-1.48985252e-01],\n",
       "        [ 2.85483211e-01],\n",
       "        [-6.46508634e-02],\n",
       "        [-3.25481206e-01],\n",
       "        [ 7.18882494e-03],\n",
       "        [ 9.12347510e-02],\n",
       "        [-2.20194340e-01],\n",
       "        [-9.70927179e-02],\n",
       "        [-3.92693192e-01],\n",
       "        [-5.97270250e-01],\n",
       "        [-7.34113693e-01],\n",
       "        [-1.58551574e-01],\n",
       "        [ 1.11051537e-01],\n",
       "        [ 9.61271673e-02],\n",
       "        [-2.79256374e-01],\n",
       "        [ 1.84300035e-01],\n",
       "        [ 3.81210297e-01],\n",
       "        [-3.33993852e-01],\n",
       "        [ 8.09848249e-01],\n",
       "        [-1.40993774e-01],\n",
       "        [-1.20919794e-01],\n",
       "        [-5.36692560e-01],\n",
       "        [-1.59167409e-01],\n",
       "        [-6.44886374e-01],\n",
       "        [-1.58172220e-01],\n",
       "        [ 7.74153024e-02],\n",
       "        [ 4.66194488e-02],\n",
       "        [-4.84746210e-02],\n",
       "        [-2.61707544e-01],\n",
       "        [ 1.12826899e-01],\n",
       "        [-1.96570501e-01],\n",
       "        [-7.35373080e-01],\n",
       "        [ 3.64249013e-02],\n",
       "        [-6.68908190e-03],\n",
       "        [ 3.75378907e-01],\n",
       "        [ 5.35560176e-02],\n",
       "        [ 1.35212287e-01],\n",
       "        [-1.72366232e-01],\n",
       "        [-1.92096438e-02],\n",
       "        [ 8.09887331e-03],\n",
       "        [-3.21522593e-01],\n",
       "        [ 1.62189439e-01],\n",
       "        [-3.65796059e-01],\n",
       "        [-2.21348047e-01],\n",
       "        [-5.75127602e-01],\n",
       "        [ 4.02449399e-01],\n",
       "        [-4.15673554e-02],\n",
       "        [-3.15864123e-02],\n",
       "        [ 1.97245687e-01],\n",
       "        [-5.56240618e-01],\n",
       "        [-6.66355073e-01],\n",
       "        [-1.77953392e-01],\n",
       "        [ 5.76424673e-02],\n",
       "        [-1.53049529e-01],\n",
       "        [-4.93989795e-01],\n",
       "        [-9.67099220e-02],\n",
       "        [ 1.62790015e-01]], dtype=float32),\n",
       " array([-0.28253895], dtype=float32)]"
      ]
     },
     "execution_count": 5,
     "metadata": {},
     "output_type": "execute_result"
    }
   ],
   "source": [
    "model.get_weights()"
   ]
  },
  {
   "cell_type": "code",
   "execution_count": 6,
   "metadata": {},
   "outputs": [],
   "source": [
    "# Step 2: Helper Functions\n",
    "# Function to decode reviews\n",
    "def decode_review(encoded_review):\n",
    "    return ' '.join([reverse_word_index.get(i - 3, '?') for i in encoded_review])\n",
    "\n",
    "# Function to preprocess user input\n",
    "def preprocess_text(text):\n",
    "    words = text.lower().split()\n",
    "    encoded_review = [word_index.get(word, 2) + 3 for word in words]\n",
    "    padded_review = sequence.pad_sequences([encoded_review], maxlen=500)\n",
    "    return padded_review"
   ]
  },
  {
   "cell_type": "code",
   "execution_count": 7,
   "metadata": {},
   "outputs": [],
   "source": [
    "### Prediction  function\n",
    "\n",
    "def predict_sentiment(review):\n",
    "    preprocessed_input=preprocess_text(review)\n",
    "\n",
    "    prediction=model.predict(preprocessed_input)\n",
    "\n",
    "    sentiment = 'Positive' if prediction[0][0] > 0.5 else 'Negative'\n",
    "    \n",
    "    return sentiment, prediction[0][0]\n",
    "\n"
   ]
  },
  {
   "cell_type": "code",
   "execution_count": 8,
   "metadata": {},
   "outputs": [
    {
     "name": "stdout",
     "output_type": "stream",
     "text": [
      "\u001b[1m1/1\u001b[0m \u001b[32m━━━━━━━━━━━━━━━━━━━━\u001b[0m\u001b[37m\u001b[0m \u001b[1m0s\u001b[0m 144ms/step\n",
      "Review: This movie was fantastic! The acting was great and the plot was thrilling.\n",
      "Sentiment: Positive\n",
      "Prediction Score: 0.6275683045387268\n"
     ]
    }
   ],
   "source": [
    "# Step 4: User Input and Prediction\n",
    "# Example review for prediction\n",
    "example_review = \"This movie was fantastic! The acting was great and the plot was thrilling.\"\n",
    "\n",
    "sentiment,score=predict_sentiment(example_review)\n",
    "\n",
    "print(f'Review: {example_review}')\n",
    "print(f'Sentiment: {sentiment}')\n",
    "print(f'Prediction Score: {score}')"
   ]
  },
  {
   "cell_type": "code",
   "execution_count": null,
   "metadata": {},
   "outputs": [],
   "source": []
  },
  {
   "cell_type": "code",
   "execution_count": null,
   "metadata": {},
   "outputs": [],
   "source": []
  }
 ],
 "metadata": {
  "kernelspec": {
   "display_name": "Python 3",
   "language": "python",
   "name": "python3"
  },
  "language_info": {
   "codemirror_mode": {
    "name": "ipython",
    "version": 3
   },
   "file_extension": ".py",
   "mimetype": "text/x-python",
   "name": "python",
   "nbconvert_exporter": "python",
   "pygments_lexer": "ipython3",
   "version": "3.11.0"
  }
 },
 "nbformat": 4,
 "nbformat_minor": 2
}
