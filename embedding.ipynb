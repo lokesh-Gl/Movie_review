{
 "cells": [
  {
   "cell_type": "code",
   "execution_count": 25,
   "metadata": {},
   "outputs": [],
   "source": [
    "from tensorflow.keras.preprocessing.text import one_hot"
   ]
  },
  {
   "cell_type": "code",
   "execution_count": 26,
   "metadata": {},
   "outputs": [],
   "source": [
    "sent=[  'the glass of milk',\n",
    "     'the glass of juice',\n",
    "     'the cup of tea',\n",
    "    'I am a good boy',\n",
    "     'I am a good developer',\n",
    "     'understand the meaning of words',\n",
    "     'your videos are good',]"
   ]
  },
  {
   "cell_type": "code",
   "execution_count": 27,
   "metadata": {},
   "outputs": [
    {
     "data": {
      "text/plain": [
       "['the glass of milk',\n",
       " 'the glass of juice',\n",
       " 'the cup of tea',\n",
       " 'I am a good boy',\n",
       " 'I am a good developer',\n",
       " 'understand the meaning of words',\n",
       " 'your videos are good']"
      ]
     },
     "execution_count": 27,
     "metadata": {},
     "output_type": "execute_result"
    }
   ],
   "source": [
    "sent"
   ]
  },
  {
   "cell_type": "code",
   "execution_count": 28,
   "metadata": {},
   "outputs": [],
   "source": [
    "voc_size=10000"
   ]
  },
  {
   "cell_type": "code",
   "execution_count": 29,
   "metadata": {},
   "outputs": [
    {
     "data": {
      "text/plain": [
       "[[4113, 8292, 4713, 3157],\n",
       " [4113, 8292, 4713, 7676],\n",
       " [4113, 5171, 4713, 7371],\n",
       " [5463, 6349, 7467, 6278, 6847],\n",
       " [5463, 6349, 7467, 6278, 9255],\n",
       " [4443, 4113, 7913, 4713, 5151],\n",
       " [2011, 3529, 9301, 6278]]"
      ]
     },
     "execution_count": 29,
     "metadata": {},
     "output_type": "execute_result"
    }
   ],
   "source": [
    "one_hot_repr=[one_hot(words,voc_size)for words in sent]\n",
    "one_hot_repr"
   ]
  },
  {
   "cell_type": "code",
   "execution_count": 30,
   "metadata": {},
   "outputs": [],
   "source": [
    "from tensorflow.keras.layers import Embedding\n",
    "from tensorflow.keras.utils import pad_sequences\n",
    "from tensorflow.keras.models import Sequential\n",
    "import numpy as np"
   ]
  },
  {
   "cell_type": "code",
   "execution_count": 31,
   "metadata": {},
   "outputs": [
    {
     "name": "stdout",
     "output_type": "stream",
     "text": [
      "[[   0    0    0    0 4113 8292 4713 3157]\n",
      " [   0    0    0    0 4113 8292 4713 7676]\n",
      " [   0    0    0    0 4113 5171 4713 7371]\n",
      " [   0    0    0 5463 6349 7467 6278 6847]\n",
      " [   0    0    0 5463 6349 7467 6278 9255]\n",
      " [   0    0    0 4443 4113 7913 4713 5151]\n",
      " [   0    0    0    0 2011 3529 9301 6278]]\n"
     ]
    }
   ],
   "source": [
    "sent_length=8\n",
    "embedded_docs=pad_sequences(one_hot_repr,padding='pre',maxlen=sent_length)\n",
    "print(embedded_docs)"
   ]
  },
  {
   "cell_type": "code",
   "execution_count": 32,
   "metadata": {},
   "outputs": [],
   "source": [
    "dim=10"
   ]
  },
  {
   "cell_type": "code",
   "execution_count": 33,
   "metadata": {},
   "outputs": [
    {
     "name": "stderr",
     "output_type": "stream",
     "text": [
      "/Users/garikaptilokesh/Documents/UDEMY-MLPR/annmodel/annenv/lib/python3.11/site-packages/keras/src/layers/core/embedding.py:97: UserWarning: Argument `input_length` is deprecated. Just remove it.\n",
      "  warnings.warn(\n"
     ]
    }
   ],
   "source": [
    "model=Sequential()\n",
    "model.add(Embedding(voc_size,dim,input_length=sent_length))\n",
    "model.compile('adam','mse')"
   ]
  },
  {
   "cell_type": "code",
   "execution_count": 34,
   "metadata": {},
   "outputs": [
    {
     "data": {
      "text/html": [
       "<pre style=\"white-space:pre;overflow-x:auto;line-height:normal;font-family:Menlo,'DejaVu Sans Mono',consolas,'Courier New',monospace\"><span style=\"font-weight: bold\">Model: \"sequential_2\"</span>\n",
       "</pre>\n"
      ],
      "text/plain": [
       "\u001b[1mModel: \"sequential_2\"\u001b[0m\n"
      ]
     },
     "metadata": {},
     "output_type": "display_data"
    },
    {
     "data": {
      "text/html": [
       "<pre style=\"white-space:pre;overflow-x:auto;line-height:normal;font-family:Menlo,'DejaVu Sans Mono',consolas,'Courier New',monospace\">┏━━━━━━━━━━━━━━━━━━━━━━━━━━━━━━━━━┳━━━━━━━━━━━━━━━━━━━━━━━━┳━━━━━━━━━━━━━━━┓\n",
       "┃<span style=\"font-weight: bold\"> Layer (type)                    </span>┃<span style=\"font-weight: bold\"> Output Shape           </span>┃<span style=\"font-weight: bold\">       Param # </span>┃\n",
       "┡━━━━━━━━━━━━━━━━━━━━━━━━━━━━━━━━━╇━━━━━━━━━━━━━━━━━━━━━━━━╇━━━━━━━━━━━━━━━┩\n",
       "│ embedding_2 (<span style=\"color: #0087ff; text-decoration-color: #0087ff\">Embedding</span>)         │ ?                      │   <span style=\"color: #00af00; text-decoration-color: #00af00\">0</span> (unbuilt) │\n",
       "└─────────────────────────────────┴────────────────────────┴───────────────┘\n",
       "</pre>\n"
      ],
      "text/plain": [
       "┏━━━━━━━━━━━━━━━━━━━━━━━━━━━━━━━━━┳━━━━━━━━━━━━━━━━━━━━━━━━┳━━━━━━━━━━━━━━━┓\n",
       "┃\u001b[1m \u001b[0m\u001b[1mLayer (type)                   \u001b[0m\u001b[1m \u001b[0m┃\u001b[1m \u001b[0m\u001b[1mOutput Shape          \u001b[0m\u001b[1m \u001b[0m┃\u001b[1m \u001b[0m\u001b[1m      Param #\u001b[0m\u001b[1m \u001b[0m┃\n",
       "┡━━━━━━━━━━━━━━━━━━━━━━━━━━━━━━━━━╇━━━━━━━━━━━━━━━━━━━━━━━━╇━━━━━━━━━━━━━━━┩\n",
       "│ embedding_2 (\u001b[38;5;33mEmbedding\u001b[0m)         │ ?                      │   \u001b[38;5;34m0\u001b[0m (unbuilt) │\n",
       "└─────────────────────────────────┴────────────────────────┴───────────────┘\n"
      ]
     },
     "metadata": {},
     "output_type": "display_data"
    },
    {
     "data": {
      "text/html": [
       "<pre style=\"white-space:pre;overflow-x:auto;line-height:normal;font-family:Menlo,'DejaVu Sans Mono',consolas,'Courier New',monospace\"><span style=\"font-weight: bold\"> Total params: </span><span style=\"color: #00af00; text-decoration-color: #00af00\">0</span> (0.00 B)\n",
       "</pre>\n"
      ],
      "text/plain": [
       "\u001b[1m Total params: \u001b[0m\u001b[38;5;34m0\u001b[0m (0.00 B)\n"
      ]
     },
     "metadata": {},
     "output_type": "display_data"
    },
    {
     "data": {
      "text/html": [
       "<pre style=\"white-space:pre;overflow-x:auto;line-height:normal;font-family:Menlo,'DejaVu Sans Mono',consolas,'Courier New',monospace\"><span style=\"font-weight: bold\"> Trainable params: </span><span style=\"color: #00af00; text-decoration-color: #00af00\">0</span> (0.00 B)\n",
       "</pre>\n"
      ],
      "text/plain": [
       "\u001b[1m Trainable params: \u001b[0m\u001b[38;5;34m0\u001b[0m (0.00 B)\n"
      ]
     },
     "metadata": {},
     "output_type": "display_data"
    },
    {
     "data": {
      "text/html": [
       "<pre style=\"white-space:pre;overflow-x:auto;line-height:normal;font-family:Menlo,'DejaVu Sans Mono',consolas,'Courier New',monospace\"><span style=\"font-weight: bold\"> Non-trainable params: </span><span style=\"color: #00af00; text-decoration-color: #00af00\">0</span> (0.00 B)\n",
       "</pre>\n"
      ],
      "text/plain": [
       "\u001b[1m Non-trainable params: \u001b[0m\u001b[38;5;34m0\u001b[0m (0.00 B)\n"
      ]
     },
     "metadata": {},
     "output_type": "display_data"
    }
   ],
   "source": [
    "model.summary()"
   ]
  },
  {
   "cell_type": "code",
   "execution_count": 20,
   "metadata": {},
   "outputs": [
    {
     "name": "stdout",
     "output_type": "stream",
     "text": [
      "\u001b[1m1/1\u001b[0m \u001b[32m━━━━━━━━━━━━━━━━━━━━\u001b[0m\u001b[37m\u001b[0m \u001b[1m0s\u001b[0m 253ms/step\n"
     ]
    },
    {
     "data": {
      "text/plain": [
       "array([[[ 0.0021469 , -0.00560147,  0.03531355, -0.04452306,\n",
       "         -0.0448309 , -0.032151  , -0.02055128, -0.04882877,\n",
       "         -0.02532972,  0.0011378 ],\n",
       "        [ 0.0021469 , -0.00560147,  0.03531355, -0.04452306,\n",
       "         -0.0448309 , -0.032151  , -0.02055128, -0.04882877,\n",
       "         -0.02532972,  0.0011378 ],\n",
       "        [ 0.0021469 , -0.00560147,  0.03531355, -0.04452306,\n",
       "         -0.0448309 , -0.032151  , -0.02055128, -0.04882877,\n",
       "         -0.02532972,  0.0011378 ],\n",
       "        [ 0.0021469 , -0.00560147,  0.03531355, -0.04452306,\n",
       "         -0.0448309 , -0.032151  , -0.02055128, -0.04882877,\n",
       "         -0.02532972,  0.0011378 ],\n",
       "        [ 0.03214595, -0.02210718,  0.03818161, -0.00871573,\n",
       "         -0.04414847, -0.04606491, -0.04224977,  0.01705385,\n",
       "          0.0470353 , -0.02103425],\n",
       "        [-0.00792452, -0.02896394, -0.01950455,  0.0494213 ,\n",
       "         -0.01029747, -0.04492699, -0.02189952,  0.02231992,\n",
       "         -0.01635525,  0.00510719],\n",
       "        [ 0.04786778, -0.03753328, -0.0130479 , -0.02330376,\n",
       "          0.00058649,  0.02103125,  0.01209505, -0.04306838,\n",
       "         -0.00338953, -0.01611501],\n",
       "        [-0.03221831,  0.01665771, -0.03339986, -0.04646976,\n",
       "         -0.0368271 ,  0.00783585, -0.01499338, -0.00835586,\n",
       "         -0.01303401,  0.0191877 ]],\n",
       "\n",
       "       [[ 0.0021469 , -0.00560147,  0.03531355, -0.04452306,\n",
       "         -0.0448309 , -0.032151  , -0.02055128, -0.04882877,\n",
       "         -0.02532972,  0.0011378 ],\n",
       "        [ 0.0021469 , -0.00560147,  0.03531355, -0.04452306,\n",
       "         -0.0448309 , -0.032151  , -0.02055128, -0.04882877,\n",
       "         -0.02532972,  0.0011378 ],\n",
       "        [ 0.0021469 , -0.00560147,  0.03531355, -0.04452306,\n",
       "         -0.0448309 , -0.032151  , -0.02055128, -0.04882877,\n",
       "         -0.02532972,  0.0011378 ],\n",
       "        [ 0.0021469 , -0.00560147,  0.03531355, -0.04452306,\n",
       "         -0.0448309 , -0.032151  , -0.02055128, -0.04882877,\n",
       "         -0.02532972,  0.0011378 ],\n",
       "        [ 0.03214595, -0.02210718,  0.03818161, -0.00871573,\n",
       "         -0.04414847, -0.04606491, -0.04224977,  0.01705385,\n",
       "          0.0470353 , -0.02103425],\n",
       "        [-0.00792452, -0.02896394, -0.01950455,  0.0494213 ,\n",
       "         -0.01029747, -0.04492699, -0.02189952,  0.02231992,\n",
       "         -0.01635525,  0.00510719],\n",
       "        [ 0.04786778, -0.03753328, -0.0130479 , -0.02330376,\n",
       "          0.00058649,  0.02103125,  0.01209505, -0.04306838,\n",
       "         -0.00338953, -0.01611501],\n",
       "        [-0.0088203 , -0.04163886, -0.02039721,  0.04001791,\n",
       "         -0.02368153,  0.01705747,  0.01940502,  0.04545024,\n",
       "         -0.00611269,  0.02801127]],\n",
       "\n",
       "       [[ 0.0021469 , -0.00560147,  0.03531355, -0.04452306,\n",
       "         -0.0448309 , -0.032151  , -0.02055128, -0.04882877,\n",
       "         -0.02532972,  0.0011378 ],\n",
       "        [ 0.0021469 , -0.00560147,  0.03531355, -0.04452306,\n",
       "         -0.0448309 , -0.032151  , -0.02055128, -0.04882877,\n",
       "         -0.02532972,  0.0011378 ],\n",
       "        [ 0.0021469 , -0.00560147,  0.03531355, -0.04452306,\n",
       "         -0.0448309 , -0.032151  , -0.02055128, -0.04882877,\n",
       "         -0.02532972,  0.0011378 ],\n",
       "        [ 0.0021469 , -0.00560147,  0.03531355, -0.04452306,\n",
       "         -0.0448309 , -0.032151  , -0.02055128, -0.04882877,\n",
       "         -0.02532972,  0.0011378 ],\n",
       "        [ 0.03214595, -0.02210718,  0.03818161, -0.00871573,\n",
       "         -0.04414847, -0.04606491, -0.04224977,  0.01705385,\n",
       "          0.0470353 , -0.02103425],\n",
       "        [-0.03307836, -0.02684962,  0.03763818, -0.03415819,\n",
       "          0.03647799, -0.00816748, -0.00275872, -0.01189263,\n",
       "         -0.03464057,  0.01436131],\n",
       "        [ 0.04786778, -0.03753328, -0.0130479 , -0.02330376,\n",
       "          0.00058649,  0.02103125,  0.01209505, -0.04306838,\n",
       "         -0.00338953, -0.01611501],\n",
       "        [ 0.02243909, -0.01287302, -0.02482076,  0.03069601,\n",
       "          0.00542163,  0.01878529, -0.01314878,  0.00469667,\n",
       "          0.03769935, -0.01960337]],\n",
       "\n",
       "       [[ 0.0021469 , -0.00560147,  0.03531355, -0.04452306,\n",
       "         -0.0448309 , -0.032151  , -0.02055128, -0.04882877,\n",
       "         -0.02532972,  0.0011378 ],\n",
       "        [ 0.0021469 , -0.00560147,  0.03531355, -0.04452306,\n",
       "         -0.0448309 , -0.032151  , -0.02055128, -0.04882877,\n",
       "         -0.02532972,  0.0011378 ],\n",
       "        [ 0.0021469 , -0.00560147,  0.03531355, -0.04452306,\n",
       "         -0.0448309 , -0.032151  , -0.02055128, -0.04882877,\n",
       "         -0.02532972,  0.0011378 ],\n",
       "        [ 0.03174323, -0.03587579, -0.02536055, -0.01418375,\n",
       "         -0.03638004, -0.00051572, -0.00218408, -0.02814119,\n",
       "         -0.0027179 , -0.01065605],\n",
       "        [-0.01056128, -0.02626382, -0.04431836,  0.03661666,\n",
       "         -0.04033079, -0.01275498,  0.02478293,  0.03364912,\n",
       "          0.02146342, -0.03027203],\n",
       "        [ 0.04697425, -0.04325397,  0.00078451,  0.01483135,\n",
       "         -0.04137573, -0.0172892 , -0.02651806,  0.03220637,\n",
       "         -0.04307579, -0.04951222],\n",
       "        [-0.02019583,  0.0493373 ,  0.03688316,  0.00647441,\n",
       "          0.00996202, -0.03833512, -0.00950556,  0.00284362,\n",
       "         -0.01299758,  0.00818416],\n",
       "        [ 0.02973327, -0.01714672,  0.0253529 ,  0.04177937,\n",
       "          0.04196956,  0.01493518, -0.0319141 , -0.02824676,\n",
       "          0.03187945,  0.03710157]],\n",
       "\n",
       "       [[ 0.0021469 , -0.00560147,  0.03531355, -0.04452306,\n",
       "         -0.0448309 , -0.032151  , -0.02055128, -0.04882877,\n",
       "         -0.02532972,  0.0011378 ],\n",
       "        [ 0.0021469 , -0.00560147,  0.03531355, -0.04452306,\n",
       "         -0.0448309 , -0.032151  , -0.02055128, -0.04882877,\n",
       "         -0.02532972,  0.0011378 ],\n",
       "        [ 0.0021469 , -0.00560147,  0.03531355, -0.04452306,\n",
       "         -0.0448309 , -0.032151  , -0.02055128, -0.04882877,\n",
       "         -0.02532972,  0.0011378 ],\n",
       "        [ 0.03174323, -0.03587579, -0.02536055, -0.01418375,\n",
       "         -0.03638004, -0.00051572, -0.00218408, -0.02814119,\n",
       "         -0.0027179 , -0.01065605],\n",
       "        [-0.01056128, -0.02626382, -0.04431836,  0.03661666,\n",
       "         -0.04033079, -0.01275498,  0.02478293,  0.03364912,\n",
       "          0.02146342, -0.03027203],\n",
       "        [ 0.04697425, -0.04325397,  0.00078451,  0.01483135,\n",
       "         -0.04137573, -0.0172892 , -0.02651806,  0.03220637,\n",
       "         -0.04307579, -0.04951222],\n",
       "        [-0.02019583,  0.0493373 ,  0.03688316,  0.00647441,\n",
       "          0.00996202, -0.03833512, -0.00950556,  0.00284362,\n",
       "         -0.01299758,  0.00818416],\n",
       "        [ 0.01201997,  0.04717327,  0.02039487, -0.02817035,\n",
       "          0.01673389,  0.00959218,  0.02566968, -0.01777947,\n",
       "          0.0404948 ,  0.02186992]],\n",
       "\n",
       "       [[ 0.0021469 , -0.00560147,  0.03531355, -0.04452306,\n",
       "         -0.0448309 , -0.032151  , -0.02055128, -0.04882877,\n",
       "         -0.02532972,  0.0011378 ],\n",
       "        [ 0.0021469 , -0.00560147,  0.03531355, -0.04452306,\n",
       "         -0.0448309 , -0.032151  , -0.02055128, -0.04882877,\n",
       "         -0.02532972,  0.0011378 ],\n",
       "        [ 0.0021469 , -0.00560147,  0.03531355, -0.04452306,\n",
       "         -0.0448309 , -0.032151  , -0.02055128, -0.04882877,\n",
       "         -0.02532972,  0.0011378 ],\n",
       "        [-0.01237078, -0.04439515,  0.03491316, -0.00543269,\n",
       "          0.04696274,  0.0142662 , -0.00392494, -0.01031389,\n",
       "         -0.02253517, -0.03996788],\n",
       "        [ 0.03214595, -0.02210718,  0.03818161, -0.00871573,\n",
       "         -0.04414847, -0.04606491, -0.04224977,  0.01705385,\n",
       "          0.0470353 , -0.02103425],\n",
       "        [-0.02511518, -0.04247332,  0.02238804, -0.03852472,\n",
       "         -0.02319024, -0.03033859, -0.02671152, -0.02167141,\n",
       "          0.01347798,  0.02857879],\n",
       "        [ 0.04786778, -0.03753328, -0.0130479 , -0.02330376,\n",
       "          0.00058649,  0.02103125,  0.01209505, -0.04306838,\n",
       "         -0.00338953, -0.01611501],\n",
       "        [-0.02674725,  0.01698053,  0.00559013, -0.01426308,\n",
       "          0.02626887, -0.02150238, -0.04679428,  0.02598795,\n",
       "          0.01530809,  0.0409222 ]],\n",
       "\n",
       "       [[ 0.0021469 , -0.00560147,  0.03531355, -0.04452306,\n",
       "         -0.0448309 , -0.032151  , -0.02055128, -0.04882877,\n",
       "         -0.02532972,  0.0011378 ],\n",
       "        [ 0.0021469 , -0.00560147,  0.03531355, -0.04452306,\n",
       "         -0.0448309 , -0.032151  , -0.02055128, -0.04882877,\n",
       "         -0.02532972,  0.0011378 ],\n",
       "        [ 0.0021469 , -0.00560147,  0.03531355, -0.04452306,\n",
       "         -0.0448309 , -0.032151  , -0.02055128, -0.04882877,\n",
       "         -0.02532972,  0.0011378 ],\n",
       "        [ 0.0021469 , -0.00560147,  0.03531355, -0.04452306,\n",
       "         -0.0448309 , -0.032151  , -0.02055128, -0.04882877,\n",
       "         -0.02532972,  0.0011378 ],\n",
       "        [-0.00988547, -0.01023461,  0.01156353,  0.02555957,\n",
       "         -0.01166042, -0.04361434,  0.03504277,  0.04605757,\n",
       "         -0.00992274, -0.00566221],\n",
       "        [ 0.04979393, -0.03436719,  0.00907481, -0.01187523,\n",
       "          0.02910855,  0.03441888,  0.03368969,  0.04023964,\n",
       "          0.00594402, -0.02747169],\n",
       "        [ 0.04249711,  0.0254826 , -0.02346734, -0.02072737,\n",
       "         -0.02827894, -0.01821965, -0.029632  , -0.01231489,\n",
       "         -0.01695364,  0.04422827],\n",
       "        [-0.02019583,  0.0493373 ,  0.03688316,  0.00647441,\n",
       "          0.00996202, -0.03833512, -0.00950556,  0.00284362,\n",
       "         -0.01299758,  0.00818416]]], dtype=float32)"
      ]
     },
     "execution_count": 20,
     "metadata": {},
     "output_type": "execute_result"
    }
   ],
   "source": [
    "model.predict(embedded_docs)"
   ]
  },
  {
   "cell_type": "code",
   "execution_count": 21,
   "metadata": {},
   "outputs": [
    {
     "data": {
      "text/plain": [
       "array([   0,    0,    0,    0, 4113, 8292, 4713, 3157], dtype=int32)"
      ]
     },
     "execution_count": 21,
     "metadata": {},
     "output_type": "execute_result"
    }
   ],
   "source": [
    "embedded_docs[0]"
   ]
  },
  {
   "cell_type": "code",
   "execution_count": null,
   "metadata": {},
   "outputs": [
    {
     "ename": "IndexError",
     "evalue": "tuple index out of range",
     "output_type": "error",
     "traceback": [
      "\u001b[31m---------------------------------------------------------------------------\u001b[39m",
      "\u001b[31mIndexError\u001b[39m                                Traceback (most recent call last)",
      "\u001b[36mCell\u001b[39m\u001b[36m \u001b[39m\u001b[32mIn[23]\u001b[39m\u001b[32m, line 1\u001b[39m\n\u001b[32m----> \u001b[39m\u001b[32m1\u001b[39m \u001b[43mmodel\u001b[49m\u001b[43m.\u001b[49m\u001b[43mpredict\u001b[49m\u001b[43m(\u001b[49m\u001b[43membedded_docs\u001b[49m\u001b[43m[\u001b[49m\u001b[32;43m0\u001b[39;49m\u001b[43m]\u001b[49m\u001b[43m[\u001b[49m\u001b[32;43m0\u001b[39;49m\u001b[43m]\u001b[49m\u001b[43m)\u001b[49m\n",
      "\u001b[36mFile \u001b[39m\u001b[32m~/Documents/UDEMY-MLPR/annmodel/annenv/lib/python3.11/site-packages/keras/src/utils/traceback_utils.py:122\u001b[39m, in \u001b[36mfilter_traceback.<locals>.error_handler\u001b[39m\u001b[34m(*args, **kwargs)\u001b[39m\n\u001b[32m    119\u001b[39m     filtered_tb = _process_traceback_frames(e.__traceback__)\n\u001b[32m    120\u001b[39m     \u001b[38;5;66;03m# To get the full stack trace, call:\u001b[39;00m\n\u001b[32m    121\u001b[39m     \u001b[38;5;66;03m# `keras.config.disable_traceback_filtering()`\u001b[39;00m\n\u001b[32m--> \u001b[39m\u001b[32m122\u001b[39m     \u001b[38;5;28;01mraise\u001b[39;00m e.with_traceback(filtered_tb) \u001b[38;5;28;01mfrom\u001b[39;00m\u001b[38;5;250m \u001b[39m\u001b[38;5;28;01mNone\u001b[39;00m\n\u001b[32m    123\u001b[39m \u001b[38;5;28;01mfinally\u001b[39;00m:\n\u001b[32m    124\u001b[39m     \u001b[38;5;28;01mdel\u001b[39;00m filtered_tb\n",
      "\u001b[36mFile \u001b[39m\u001b[32m~/Documents/UDEMY-MLPR/annmodel/annenv/lib/python3.11/site-packages/keras/src/trainers/data_adapters/data_adapter_utils.py:104\u001b[39m, in \u001b[36m<genexpr>\u001b[39m\u001b[34m(.0)\u001b[39m\n\u001b[32m    103\u001b[39m \u001b[38;5;28;01mdef\u001b[39;00m\u001b[38;5;250m \u001b[39m\u001b[34mcheck_data_cardinality\u001b[39m(data):\n\u001b[32m--> \u001b[39m\u001b[32m104\u001b[39m     num_samples = \u001b[38;5;28mset\u001b[39m(\u001b[38;5;28mint\u001b[39m(\u001b[43mi\u001b[49m\u001b[43m.\u001b[49m\u001b[43mshape\u001b[49m\u001b[43m[\u001b[49m\u001b[32;43m0\u001b[39;49m\u001b[43m]\u001b[49m) \u001b[38;5;28;01mfor\u001b[39;00m i \u001b[38;5;129;01min\u001b[39;00m tree.flatten(data))\n\u001b[32m    105\u001b[39m     \u001b[38;5;28;01mif\u001b[39;00m \u001b[38;5;28mlen\u001b[39m(num_samples) > \u001b[32m1\u001b[39m:\n\u001b[32m    106\u001b[39m         msg = (\n\u001b[32m    107\u001b[39m             \u001b[33m\"\u001b[39m\u001b[33mData cardinality is ambiguous. \u001b[39m\u001b[33m\"\u001b[39m\n\u001b[32m    108\u001b[39m             \u001b[33m\"\u001b[39m\u001b[33mMake sure all arrays contain the same number of samples.\u001b[39m\u001b[33m\"\u001b[39m\n\u001b[32m    109\u001b[39m         )\n",
      "\u001b[31mIndexError\u001b[39m: tuple index out of range"
     ]
    }
   ],
   "source": [
    "model.predict(embedded_docs[0])"
   ]
  },
  {
   "cell_type": "code",
   "execution_count": null,
   "metadata": {},
   "outputs": [],
   "source": []
  },
  {
   "cell_type": "code",
   "execution_count": null,
   "metadata": {},
   "outputs": [],
   "source": []
  }
 ],
 "metadata": {
  "kernelspec": {
   "display_name": "annenv",
   "language": "python",
   "name": "python3"
  },
  "language_info": {
   "codemirror_mode": {
    "name": "ipython",
    "version": 3
   },
   "file_extension": ".py",
   "mimetype": "text/x-python",
   "name": "python",
   "nbconvert_exporter": "python",
   "pygments_lexer": "ipython3",
   "version": "3.13.5"
  }
 },
 "nbformat": 4,
 "nbformat_minor": 2
}
